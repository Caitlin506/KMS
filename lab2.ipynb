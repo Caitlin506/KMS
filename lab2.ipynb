{
 "cells": [
  {
   "cell_type": "code",
   "execution_count": 1,
   "metadata": {},
   "outputs": [],
   "source": [
    "import numpy as np"
   ]
  },
  {
   "cell_type": "code",
   "execution_count": 3,
   "metadata": {},
   "outputs": [],
   "source": [
    "k0=10\n",
    "delta_k=1\n",
    "t0=0\n",
    "t_max=1\n",
    "x=np.linspace(-5,25,100)\n",
    "psi_brzeg = 0\n",
    "delta_t = 0.02\n"
   ]
  },
  {
   "cell_type": "code",
   "execution_count": 16,
   "metadata": {},
   "outputs": [],
   "source": [
    "def Vj(i):\n",
    "    return 0;\n",
    "\n",
    "def getMatrixA(delta_t,delta_x,J=10):\n",
    "    matrixA = np.zeros((J-1,J-1),dtype=complex)\n",
    "    for i in range(J-1):\n",
    "        matrixA[i,i] = 1+1j*delta_t/2*(2/delta_x/delta_x+Vj(i))\n",
    "        if i!=0:\n",
    "            matrixA[i,i-1]=-1j*delta_t/2/delta_x/delta_x\n",
    "        if i!=J-2:\n",
    "            matrixA[i,i+1]=-1j*delta_t/2/delta_x/delta_x\n",
    "        \n",
    "    return matrixA      "
   ]
  },
  {
   "cell_type": "code",
   "execution_count": 17,
   "metadata": {},
   "outputs": [
    {
     "data": {
      "text/plain": [
       "array([[1.+50.j, 0.-25.j, 0. +0.j, 0. +0.j, 0. +0.j, 0. +0.j, 0. +0.j,\n",
       "        0. +0.j, 0. +0.j],\n",
       "       [0.-25.j, 1.+50.j, 0.-25.j, 0. +0.j, 0. +0.j, 0. +0.j, 0. +0.j,\n",
       "        0. +0.j, 0. +0.j],\n",
       "       [0. +0.j, 0.-25.j, 1.+50.j, 0.-25.j, 0. +0.j, 0. +0.j, 0. +0.j,\n",
       "        0. +0.j, 0. +0.j],\n",
       "       [0. +0.j, 0. +0.j, 0.-25.j, 1.+50.j, 0.-25.j, 0. +0.j, 0. +0.j,\n",
       "        0. +0.j, 0. +0.j],\n",
       "       [0. +0.j, 0. +0.j, 0. +0.j, 0.-25.j, 1.+50.j, 0.-25.j, 0. +0.j,\n",
       "        0. +0.j, 0. +0.j],\n",
       "       [0. +0.j, 0. +0.j, 0. +0.j, 0. +0.j, 0.-25.j, 1.+50.j, 0.-25.j,\n",
       "        0. +0.j, 0. +0.j],\n",
       "       [0. +0.j, 0. +0.j, 0. +0.j, 0. +0.j, 0. +0.j, 0.-25.j, 1.+50.j,\n",
       "        0.-25.j, 0. +0.j],\n",
       "       [0. +0.j, 0. +0.j, 0. +0.j, 0. +0.j, 0. +0.j, 0. +0.j, 0.-25.j,\n",
       "        1.+50.j, 0.-25.j],\n",
       "       [0. +0.j, 0. +0.j, 0. +0.j, 0. +0.j, 0. +0.j, 0. +0.j, 0. +0.j,\n",
       "        0.-25.j, 1.+50.j]])"
      ]
     },
     "execution_count": 17,
     "metadata": {},
     "output_type": "execute_result"
    }
   ],
   "source": [
    "getMatrixA(0.02,0.02)"
   ]
  },
  {
   "cell_type": "code",
   "execution_count": null,
   "metadata": {},
   "outputs": [],
   "source": []
  }
 ],
 "metadata": {
  "kernelspec": {
   "display_name": "Python 3",
   "language": "python",
   "name": "python3"
  },
  "language_info": {
   "codemirror_mode": {
    "name": "ipython",
    "version": 3
   },
   "file_extension": ".py",
   "mimetype": "text/x-python",
   "name": "python",
   "nbconvert_exporter": "python",
   "pygments_lexer": "ipython3",
   "version": "3.8.5"
  }
 },
 "nbformat": 4,
 "nbformat_minor": 4
}
