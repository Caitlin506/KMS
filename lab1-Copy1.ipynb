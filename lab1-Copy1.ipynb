{
 "cells": [
  {
   "cell_type": "code",
   "execution_count": 38,
   "id": "8a9cdaf5-ad97-4b77-bb3b-07b77885ab61",
   "metadata": {},
   "outputs": [],
   "source": [
    "import numpy as np\n",
    "from numba import njit\n",
    "from tqdm import tqdm"
   ]
  },
  {
   "cell_type": "code",
   "execution_count": 39,
   "id": "401a75a4-f9a5-45ea-af89-669128d9cb9a",
   "metadata": {},
   "outputs": [],
   "source": [
    "n=6\n",
    "a=0.38\n",
    "f=10000\n",
    "R=0.38\n",
    "L=2.3\n",
    "m=40\n",
    "epsilon=1\n",
    "k=8.31*10**(-3)\n",
    "T0=0\n",
    "tau = 1e-3"
   ]
  },
  {
   "cell_type": "code",
   "execution_count": 40,
   "id": "ff7af5ff-93e8-4d05-8a57-eb0d3087fde5",
   "metadata": {},
   "outputs": [],
   "source": [
    "N=n**3\n",
    "b0=np.array([a,0.,0.])\n",
    "b1=np.array([a/2,a*np.sqrt(3)/2,0.])\n",
    "b2=np.array([a/2,a*np.sqrt(3)/6,a*np.sqrt(2/3)])"
   ]
  },
  {
   "cell_type": "code",
   "execution_count": 41,
   "id": "9fcd30f9-cb08-477a-928d-68a6362565a0",
   "metadata": {},
   "outputs": [],
   "source": [
    "#Wyznaczanie położeń początkowych\n",
    "file1=open(\"data1/starting_position.txt\",\"w\",encoding=\"utf-8\")\n",
    "file1.write(str(N)+\"\\n\\n\")\n",
    "ri0=[]\n",
    "for i0 in range(n):\n",
    "    for i1 in range(n):\n",
    "        for i2 in range(n):\n",
    "            ri=(i0-(n-1)/2)*b0+(i1-(n-1)/2)*b1+(i2-(n-1)/2)*b2\n",
    "            file1.write(\"Ar\"+\"\\t\"+str(ri[0])+\"\\t\"+str(ri[1])+\"\\t\"+str(ri[2])+\"\\n\")\n",
    "            ri0.append(np.array([ri[0],ri[1],ri[2]]))\n",
    "            \n",
    "file1.close()"
   ]
  },
  {
   "cell_type": "code",
   "execution_count": 42,
   "id": "698264f1-16ed-4274-ae19-0f6e5f441e12",
   "metadata": {},
   "outputs": [],
   "source": [
    "#wyznaczanie pędów początkowych\n",
    "sumP=0\n",
    "pi0=[]\n",
    "for i in range(N):\n",
    "    Ex=-1/2*k*T0*np.log(np.random.rand())\n",
    "    Ey=-1/2*k*T0*np.log(np.random.rand())\n",
    "    Ez=-1/2*k*T0*np.log(np.random.rand())\n",
    "    px=np.sqrt(2*m*Ex)\n",
    "    py=np.sqrt(2*m*Ey)\n",
    "    pz=np.sqrt(2*m*Ez)\n",
    "    a=np.random.rand()\n",
    "    if a<0.5:\n",
    "        px=-px\n",
    "    b=np.random.rand()\n",
    "    if b<0.5:\n",
    "        py=-py\n",
    "    c=np.random.rand()\n",
    "    if c<0.5:\n",
    "        pz=-pz\n",
    "    pi0.append(np.array([px,py,pz]))\n",
    "    sumP=sumP+np.array([px,py,pz])\n",
    "    \n",
    "pi0p=pi0-1/N*sumP\n",
    "\n",
    "file2=open(\"data1/starting_momentum.txt\",\"w\",encoding=\"utf-8\")\n",
    "for i in range(N):\n",
    "    file2.write(str(pi0p[i][0])+\"\\t\"+str(pi0p[i][1])+\"\\t\"+str(pi0p[i][2])+\"\\n\")\n",
    "            \n",
    "file2.close()"
   ]
  },
  {
   "cell_type": "code",
   "execution_count": 43,
   "id": "87dbe4ab-9dd0-44bc-bc9a-4b55e1823da9",
   "metadata": {},
   "outputs": [],
   "source": [
    "#Potencjały\n",
    "def V_p(ri,rj):\n",
    "    norm=np.linalg.norm(ri-rj)\n",
    "    my6=(R/norm)*(R/norm)*(R/norm)*(R/norm)*(R/norm)*(R/norm)\n",
    "    vp = epsilon*(my6*my6-2*my6)\n",
    "    return vp\n",
    "def V_s(ri):\n",
    "    norm=np.linalg.norm(ri)\n",
    "    if norm<L:\n",
    "        return 0\n",
    "    else:\n",
    "        return 1/2*f*(norm-L)**2\n",
    "@njit\n",
    "def V_system(ri,R,f,L):\n",
    "    systemV = 0\n",
    "    for i in range(N):\n",
    "        for j in range(i):\n",
    "            norm2=np.linalg.norm(ri[i]-ri[j])\n",
    "            my6=(R/norm2)*(R/norm2)*(R/norm2)*(R/norm2)*(R/norm2)*(R/norm2)\n",
    "            vp = epsilon*(my6*my6-2*my6)\n",
    "            systemV=systemV+vp\n",
    "        norm=np.linalg.norm(ri[i])\n",
    "        if norm<L:\n",
    "            continue\n",
    "        else:\n",
    "            vs=1/2*f*(norm-L)**2\n",
    "            systemV=systemV+vs\n",
    "    return systemV"
   ]
  },
  {
   "cell_type": "code",
   "execution_count": 44,
   "id": "6abc0b53-3fbf-4f7c-8339-a5ece83a5e1d",
   "metadata": {},
   "outputs": [
    {
     "data": {
      "text/plain": [
       "-1243.3618958874636"
      ]
     },
     "execution_count": 44,
     "metadata": {},
     "output_type": "execute_result"
    }
   ],
   "source": [
    "systemV = V_system(np.array(ri0),R,f,L)\n",
    "systemV"
   ]
  },
  {
   "cell_type": "code",
   "execution_count": 45,
   "id": "3f137ef7-c3b9-4a27-b12f-87ce1288fb79",
   "metadata": {},
   "outputs": [],
   "source": [
    "#Siły działające na cząsteczkę\n",
    "@njit\n",
    "def F_p(ri,rj):\n",
    "    norm=np.linalg.norm(ri-rj)\n",
    "    my6=(R/norm)*(R/norm)*(R/norm)*(R/norm)*(R/norm)*(R/norm)\n",
    "    fp=12*epsilon*(my6*my6-my6)*(ri-rj)/(norm*norm)\n",
    "    return fp\n",
    "\n",
    "def F_s(ri):\n",
    "    norm=np.linalg.norm(ri)\n",
    "    if norm<L:\n",
    "        return 0\n",
    "    else:\n",
    "        return f*(L-norm)*ri/norm\n",
    "\n",
    "def Force_i (ri):\n",
    "    forces = []\n",
    "    for i in range(N):\n",
    "        suma=0\n",
    "        for j in range(N):\n",
    "            if j!=i:\n",
    "                suma=suma+F_p(ri[i],ri[j])\n",
    "        fi = suma+F_s(ri[i])\n",
    "        forces.append(fi)\n",
    "    return forces"
   ]
  },
  {
   "cell_type": "code",
   "execution_count": 46,
   "id": "7b285a7b-ce4e-43bc-87b4-e4cd37854e21",
   "metadata": {},
   "outputs": [],
   "source": [
    "forces = Force_i(ri0)"
   ]
  },
  {
   "cell_type": "code",
   "execution_count": 47,
   "id": "6a98108c-8902-4688-aacf-77c7ce13331c",
   "metadata": {},
   "outputs": [
    {
     "data": {
      "text/plain": [
       "array([0., 0., 0.])"
      ]
     },
     "execution_count": 47,
     "metadata": {},
     "output_type": "execute_result"
    }
   ],
   "source": [
    "#Ciśnienie na ścianki\n",
    "def get_funsum(ri):\n",
    "    funsum=0\n",
    "    for i in range(N):\n",
    "        funsum=funsum+F_s(ri[i])\n",
    "    return funsum\n",
    "\n",
    "def getP(funsum):\n",
    "    P = 1/(4*np.pi*L*L)*funsum\n",
    "    return P\n",
    "\n",
    "getP(get_funsum(ri0))"
   ]
  },
  {
   "cell_type": "code",
   "execution_count": 48,
   "id": "98e8b470-a719-4954-9672-7db190def350",
   "metadata": {},
   "outputs": [
    {
     "data": {
      "text/plain": [
       "-1243.3618958874636"
      ]
     },
     "execution_count": 48,
     "metadata": {},
     "output_type": "execute_result"
    }
   ],
   "source": [
    "#Hamiltonian\n",
    "Hamiltonian = 0\n",
    "for i in range(N):\n",
    "    norm=np.linalg.norm(pi0[i])\n",
    "    ham = norm*norm/(2*m)\n",
    "    Hamiltonian=Hamiltonian+ham\n",
    "Hamiltonian=Hamiltonian+systemV\n",
    "Hamiltonian"
   ]
  },
  {
   "cell_type": "markdown",
   "id": "f0599a65-9b24-46f4-ab6d-2da3165b45bc",
   "metadata": {},
   "source": [
    "#Równania ruchu\n",
    "movement = []\n",
    "for i in range(N):\n",
    "    ri=pi0[i]/m\n",
    "    pi=forces[i]\n",
    "    movement.append(np.array([ri,pi]))"
   ]
  },
  {
   "cell_type": "code",
   "execution_count": 49,
   "id": "21df28ce-5149-4bef-98ff-38bdee4087ca",
   "metadata": {},
   "outputs": [],
   "source": [
    "def move (ri0,Fi0,pi0):\n",
    "    pihalf = pi0+0.5*np.array(Fi0)*tau\n",
    "    newri = ri0+1/m*pihalf*tau\n",
    "    newFi = np.array(Force_i(newri))\n",
    "    newpi = pihalf+1/2*newFi*tau\n",
    "    return newri,newFi,newpi"
   ]
  },
  {
   "cell_type": "code",
   "execution_count": 50,
   "id": "6eeb9a22-7c6c-4b01-89fe-8738da992368",
   "metadata": {},
   "outputs": [],
   "source": [
    "@njit\n",
    "def kinetic(pi):\n",
    "    suma=0\n",
    "    for p in pi:\n",
    "        norm=np.linalg.norm(p)\n",
    "        suma = suma + norm*norm/(2*m)\n",
    "        temp = 2/(3*N*k)*suma\n",
    "    return suma,temp"
   ]
  },
  {
   "cell_type": "code",
   "execution_count": 51,
   "id": "c77de19f-8c46-497c-8111-6984c6522b83",
   "metadata": {},
   "outputs": [],
   "source": [
    "def energies_file(a,b,c,d,e):\n",
    "    with open(\"data1/energies.txt\", \"a\") as f:\n",
    "        f.write(str(a)+'\\t')\n",
    "        f.write(str(b)+'\\t')\n",
    "        f.write(str(c)+'\\t')\n",
    "        f.write(str(d)+'\\t')       \n",
    "        f.write(str(e)+'\\n') "
   ]
  },
  {
   "cell_type": "code",
   "execution_count": 52,
   "id": "9deb1d77-e887-47c9-87ce-bd4b785f1e6d",
   "metadata": {},
   "outputs": [],
   "source": [
    "def movement(ri,Fi,pi):\n",
    "    file2=open(\"data1/movement.txt\",\"w\")\n",
    "    for i in tqdm(range(10000)):\n",
    "        ri,Fi,pi=move(ri,Fi,pi)\n",
    "        if i%10==0:\n",
    "            energies_file(kinetic(pi)[0]+V_system(np.array(ri),R,f,L),kinetic(pi)[0],V_system(np.array(ri),R,f,L),kinetic(pi)[1],getP(get_funsum(ri)))\n",
    "        if i%100==0:\n",
    "            file2.write(str(N)+\"\\n\\n\")\n",
    "            for pos in ri:\n",
    "                file2.write(\"Ar\"+\"\\t\"+str(pos[0])+\"\\t\"+str(pos[1])+\"\\t\"+str(pos[2])+\"\\n\")            \n",
    "            file2.write(\"\\n\")\n",
    "    file2.close()"
   ]
  },
  {
   "cell_type": "code",
   "execution_count": null,
   "id": "96364f9b-50ed-4a54-b480-ccba7b4f2978",
   "metadata": {},
   "outputs": [
    {
     "name": "stderr",
     "output_type": "stream",
     "text": [
      "  7%|██▋                                    | 675/10000 [01:32<22:13,  6.99it/s]"
     ]
    }
   ],
   "source": [
    "movement(ri0,forces,pi0)"
   ]
  },
  {
   "cell_type": "code",
   "execution_count": null,
   "id": "a3f97fa0-6f20-415b-a5f8-2019973f6500",
   "metadata": {},
   "outputs": [],
   "source": []
  },
  {
   "cell_type": "code",
   "execution_count": null,
   "id": "7ea4d773-d976-4d2b-9991-d9ad054df4f1",
   "metadata": {},
   "outputs": [],
   "source": []
  },
  {
   "cell_type": "code",
   "execution_count": null,
   "id": "d2fe6ec9-8fdb-4533-ab3d-f6f348bc5e0d",
   "metadata": {},
   "outputs": [],
   "source": []
  }
 ],
 "metadata": {
  "kernelspec": {
   "display_name": "Python 3 (ipykernel)",
   "language": "python",
   "name": "python3"
  },
  "language_info": {
   "codemirror_mode": {
    "name": "ipython",
    "version": 3
   },
   "file_extension": ".py",
   "mimetype": "text/x-python",
   "name": "python",
   "nbconvert_exporter": "python",
   "pygments_lexer": "ipython3",
   "version": "3.10.6"
  }
 },
 "nbformat": 4,
 "nbformat_minor": 5
}
